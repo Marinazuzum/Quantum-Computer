{
 "cells": [
  {
   "cell_type": "markdown",
   "id": "a5a2fe61-2a82-4c47-a5e5-239d6c8cedb5",
   "metadata": {},
   "source": [
    "# Half Adder Circuit Simulation\n",
    "![image](circuit.png)"
   ]
  },
  {
   "cell_type": "code",
   "execution_count": 3,
   "id": "33a0a358-9a46-4a44-8d42-a5284c4fbe96",
   "metadata": {},
   "outputs": [],
   "source": [
    "import numpy as np"
   ]
  },
  {
   "cell_type": "code",
   "execution_count": 19,
   "id": "f3d7774f-1f7a-416d-a57a-857e84c7c0c5",
   "metadata": {
    "tags": []
   },
   "outputs": [
    {
     "name": "stdout",
     "output_type": "stream",
     "text": [
      "[[ 0.5+0.j]\n",
      " [ 0. +0.j]\n",
      " [ 0. +0.j]\n",
      " [ 0. +0.j]\n",
      " [ 0. +0.j]\n",
      " [ 0. +0.j]\n",
      " [ 0.5+0.j]\n",
      " [ 0. +0.j]\n",
      " [ 0. +0.j]\n",
      " [ 0. +0.j]\n",
      " [-0.5+0.j]\n",
      " [ 0. +0.j]\n",
      " [ 0. +0.j]\n",
      " [-0.5+0.j]\n",
      " [ 0. +0.j]\n",
      " [ 0. +0.j]]\n"
     ]
    }
   ],
   "source": [
    "q = QuantumCircuit(4)\n",
    "q.x(0)\n",
    "q.h(0)\n",
    "q.h(1)\n",
    "q.cx(0, 2)\n",
    "q.cx(1, 2)\n",
    "q.ccx(0, 1, 3)\n",
    "print(q.get_statevector())"
   ]
  },
  {
   "cell_type": "markdown",
   "id": "3b2257da-1922-4b93-a5ab-8d3c5d11ea09",
   "metadata": {},
   "source": [
    "# Class QuantumCircuit"
   ]
  },
  {
   "cell_type": "code",
   "execution_count": 18,
   "id": "b11a2f21-7a08-46a4-b6a4-4a5afaea2042",
   "metadata": {},
   "outputs": [],
   "source": [
    "# Class QuantumCircuit\n",
    "class QuantumCircuit:\n",
    "    def __init__(self, qubits):\n",
    "        if qubits < 1:\n",
    "            raise Exception(\"qubits should be more than zero\")\n",
    "        self.qubits = qubits\n",
    "        \n",
    "        # Init state vector\n",
    "        self.state_vector = np.zeros((2**qubits, 1), dtype=complex)\n",
    "        # Start from state \"0000\"\n",
    "        self.state_vector[0] = 1.+0.j\n",
    "        \n",
    "        # Init NOT gate matrix\n",
    "        X = np.array([[0, 1], [1, 0]], dtype=complex) # x(0)\n",
    "        I = np.eye(2**(qubits - 1))\n",
    "        self.XI = np.kron(X, I)\n",
    "        \n",
    "        # Init H gate matrix\n",
    "        H = np.array([[1, 1], [1, -1]], dtype=complex) / np.sqrt(2) # h(0)\n",
    "        I = np.eye(2**(qubits - 1))\n",
    "        self.HI = np.kron(H, I)\n",
    "        \n",
    "        # Init CNOT gate matrix\n",
    "        if qubits >= 2:\n",
    "            CX = np.array([[1, 0, 0, 0], [0, 1, 0, 0], [0, 0, 0, 1], [0, 0, 1, 0]], dtype=complex) # cx(0,1)\n",
    "            I = np.eye(2**(qubits - 2))\n",
    "            self.CXI = np.kron(CX, I)\n",
    "\n",
    "        # Init Toffoli gate matrix\n",
    "        if qubits >= 3:\n",
    "            CCX = np.array(\n",
    "                  [[1, 0, 0, 0, 0, 0, 0, 0],\n",
    "                   [0, 1, 0, 0, 0, 0, 0, 0],\n",
    "                   [0, 0, 1, 0, 0, 0, 0, 0],\n",
    "                   [0, 0, 0, 1, 0, 0, 0, 0],\n",
    "                   [0, 0, 0, 0, 1, 0, 0, 0],\n",
    "                   [0, 0, 0, 0, 0, 1, 0, 0],\n",
    "                   [0, 0, 0, 0, 0, 0, 0, 1],\n",
    "                   [0, 0, 0, 0, 0, 0, 1, 0]], dtype=complex) # ccx(0,1,2)\n",
    "            I = np.eye(2**(qubits - 3))\n",
    "            self.CCXI = np.kron(CCX, I)\n",
    "\n",
    "    def get_statevector(self):\n",
    "        return self.state_vector\n",
    "\n",
    "    def x(self, q0):\n",
    "        if not self.__check_param(q0):\n",
    "            raise Exception(\"wrong parameter\")\n",
    "        perm = self.__get_perm(q0)\n",
    "        G = self.__reorder_gate(self.XI, perm)\n",
    "        self.state_vector = np.matmul(G, self.state_vector)\n",
    "\n",
    "    def h(self, q0):\n",
    "        if not self.__check_param(q0):\n",
    "            raise Exception(\"wrong parameter\")\n",
    "        perm = self.__get_perm(q0)\n",
    "        G = self.__reorder_gate(self.HI, perm)\n",
    "        self.state_vector = np.matmul(G, self.state_vector)\n",
    "\n",
    "    def cx(self, q0, q1):\n",
    "        if not self.__check_param(q0, q1):\n",
    "            raise Exception(\"wrong parameter\")\n",
    "        perm = self.__get_perm(q0, q1)\n",
    "        G = self.__reorder_gate(self.CXI, perm)\n",
    "        self.state_vector = np.matmul(G, self.state_vector)        \n",
    "\n",
    "    def ccx(self, q0, q1, q2):\n",
    "        if not self.__check_param(q0, q1, q2):\n",
    "            raise Exception(\"wrong parameter\")\n",
    "        perm = self.__get_perm(q0, q1, q2)\n",
    "        G = self.__reorder_gate(self.CCXI, perm)\n",
    "        self.state_vector = np.matmul(G, self.state_vector)   \n",
    "    \n",
    "    def __check_param(self, *args):\n",
    "        for i in range(len(args)):\n",
    "            if not args[i] in range(0, self.qubits):\n",
    "                return False\n",
    "        return (len(args) == len(set(args)))\n",
    "    \n",
    "    def __get_perm(self, *args):\n",
    "        perm = np.full(self.qubits, -1, dtype=int)\n",
    "        for i in range(len(args)):\n",
    "            perm[args[i]] = i\n",
    "        value = len(args)\n",
    "        for i in range(len(perm)):\n",
    "            if perm[i] == -1:\n",
    "                perm[i] = value\n",
    "                value += 1        \n",
    "        return perm\n",
    "        \n",
    "    def __reorder_gate(self, G, perm):\n",
    "        \"\"\"\n",
    "        Adapt gate G to an ordering of the qubits as specified in perm.\n",
    "        Example, given G = np.kron(np.kron(A, B), C):\n",
    "        reorder_gate(G, [1, 2, 0]) == np.kron(np.kron(B, C), A)\n",
    "        \"\"\"\n",
    "        perm = list(perm)\n",
    "        # number of qubits\n",
    "        n = len(perm)\n",
    "        # reorder both input and output dimensions\n",
    "        perm2 = perm + [n + i for i in perm]\n",
    "        return np.reshape(np.transpose(np.reshape(G, 2*n*[2]), perm2), (2**n, 2**n))"
   ]
  },
  {
   "cell_type": "code",
   "execution_count": null,
   "id": "e2862aa7-cc0b-4ffd-8a8d-f003a152cb26",
   "metadata": {},
   "outputs": [],
   "source": []
  }
 ],
 "metadata": {
  "kernelspec": {
   "display_name": "Python 3 (ipykernel)",
   "language": "python",
   "name": "python3"
  },
  "language_info": {
   "codemirror_mode": {
    "name": "ipython",
    "version": 3
   },
   "file_extension": ".py",
   "mimetype": "text/x-python",
   "name": "python",
   "nbconvert_exporter": "python",
   "pygments_lexer": "ipython3",
   "version": "3.10.5"
  }
 },
 "nbformat": 4,
 "nbformat_minor": 5
}
